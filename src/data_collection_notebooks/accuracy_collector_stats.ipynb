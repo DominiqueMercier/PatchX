{
 "cells": [
  {
   "cell_type": "code",
   "execution_count": null,
   "metadata": {},
   "outputs": [],
   "source": [
    "import glob\n",
    "import numpy as np"
   ]
  },
  {
   "cell_type": "code",
   "execution_count": null,
   "metadata": {},
   "outputs": [],
   "source": [
    "# collect accuracies of all approaches and datasets\n",
    "def collect_accuracies(path, verbose=1):\n",
    "    report = {}\n",
    "    for filename in glob.iglob(path + '**/accuracy_report*', recursive=True):\n",
    "        name_split = filename.split('/')\n",
    "        if 'strides_' in name_split[-2]:\n",
    "            setup = name_split[-1].replace('accuracy_report', '').replace('.txt', '')[1:]\n",
    "            if setup == \"\":\n",
    "                setup = 'svmd'\n",
    "            setup += '_' + name_split[-2]\n",
    "            data = name_split[-3]\n",
    "        else:\n",
    "            data = name_split[-2]\n",
    "            setup = name_split[-1].replace('accuracy_report', '').replace('.txt', '')[1:]\n",
    "            if setup == \"\":\n",
    "                setup = 'blackbox'\n",
    "            if not data in report.keys():\n",
    "                report[data] = {}\n",
    "        if verbose:\n",
    "            print('Data: %s | Setup: %s' % (data, setup))\n",
    "        report[data][setup] = get_accuracies(filename, verbose)\n",
    "    return report\n",
    "\n",
    "# helper function to get accuracies\n",
    "def get_accuracies(path, verbose=1):\n",
    "    accs = {}\n",
    "    with open(path, \"r\") as f:\n",
    "        line = f.readline()\n",
    "    for l in line.split('| '):\n",
    "        sname = l.split(' ')[0]\n",
    "        acc = l.split(' ')[2]\n",
    "        if verbose:\n",
    "            print('Set: %s | Accuracy: %s' % (sname, acc))\n",
    "        accs[sname] = acc\n",
    "    return accs"
   ]
  },
  {
   "cell_type": "code",
   "execution_count": null,
   "metadata": {
    "tags": []
   },
   "outputs": [],
   "source": [
    "path = \"../../models/\"\n",
    "accuracy_report = collect_accuracies(path, verbose=0)"
   ]
  },
  {
   "cell_type": "code",
   "execution_count": null,
   "metadata": {
    "tags": []
   },
   "outputs": [],
   "source": [
    "# helper function to pretty print results\n",
    "def pretty_print(acc_dic):\n",
    "    for d in acc_dic.keys():\n",
    "        print('='*40)\n",
    "        print('Dataset:', d) \n",
    "        for s in acc_dic[d].keys():\n",
    "            tmp = ''\n",
    "            for se in acc_dic[d][s].keys():\n",
    "                tmp += se + \": \" + acc_dic[d][s][se] + '\\t'\n",
    "            print('\\t' + tmp + 'Approach: ' + s)\n",
    "\n",
    "pretty_print(accuracy_report)"
   ]
  }
 ],
 "metadata": {
  "language_info": {
   "codemirror_mode": {
    "name": "ipython",
    "version": 3
   },
   "file_extension": ".py",
   "mimetype": "text/x-python",
   "name": "python",
   "nbconvert_exporter": "python",
   "pygments_lexer": "ipython3",
   "version": "3.6.12-final"
  },
  "orig_nbformat": 2,
  "kernelspec": {
   "name": "python36964bita54aa851efd74a40947ad31aa4b50f69",
   "display_name": "Python 3.6.9 64-bit",
   "language": "python"
  }
 },
 "nbformat": 4,
 "nbformat_minor": 2
}