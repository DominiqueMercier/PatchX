{
 "cells": [
  {
   "cell_type": "code",
   "execution_count": null,
   "metadata": {},
   "outputs": [],
   "source": [
    "import glob\n",
    "import numpy as np\n",
    "import matplotlib.pyplot as plt\n",
    "import seaborn as sns\n",
    "\n",
    "sns.set()"
   ]
  },
  {
   "cell_type": "code",
   "execution_count": null,
   "metadata": {},
   "outputs": [],
   "source": [
    "def collect_accuracies(path, setup_group, verbose=1):\n",
    "    report = {}\n",
    "    setup_paths = []\n",
    "    for filename in glob.iglob(path + '**/accuracy_report*', recursive=True):\n",
    "        name_split = filename.split('/')\n",
    "        if setup_group in name_split[-2]:\n",
    "            clf = name_split[-1].split('_')[-1].split('.')[0]\n",
    "            setup_paths.append(filename.replace(name_split[-1], ''))\n",
    "            setup = clf + '_' + name_split[-2].replace(setup_group, '')\n",
    "            if verbose:\n",
    "                print('Setup: %s' % (setup))\n",
    "            report[setup] = get_accuracies(filename, verbose)\n",
    "    return report, setup_paths\n",
    "\n",
    "def get_accuracies(path, verbose=1):\n",
    "    accs = {}\n",
    "    with open(path, \"r\") as f:\n",
    "        line = f.readline()\n",
    "    for l in line.split('| '):\n",
    "        sname = l.split(' ')[0]\n",
    "        acc = l.split(' ')[2]\n",
    "        if verbose:\n",
    "            print('Set: %s | Accuracy: %s' % (sname, acc))\n",
    "        accs[sname] = acc\n",
    "    return accs"
   ]
  },
  {
   "cell_type": "code",
   "execution_count": null,
   "metadata": {
    "tags": []
   },
   "outputs": [],
   "source": [
    "path = \"../../models/\" \n",
    "setup = \"anomaly_new/\"\n",
    "path = os.path.join(path, setup)\n",
    "setup_group = \"strides_5_length_10_\"\n",
    "accuracy_report, setup_paths = collect_accuracies(path, setup_group, verbose=1)"
   ]
  },
  {
   "cell_type": "code",
   "execution_count": null,
   "metadata": {},
   "outputs": [],
   "source": [
    "def autolabel(ax, rects, norm=True, xpos='center'):\n",
    "    ha = {'center': 'center', 'right': 'left', 'left': 'right'}\n",
    "    offset = {'center': 0, 'right': 1, 'left': -1}\n",
    "\n",
    "    for rect in rects:\n",
    "        height = rect.get_height()\n",
    "        ax.annotate('%.2f' % (height*100 if norm else height),\n",
    "                    xy=(rect.get_x() + rect.get_width() / 2, height),\n",
    "                    xytext=(offset[xpos]*3, 3),  # use 3 points offset\n",
    "                    textcoords=\"offset points\",  # in both directions\n",
    "                    ha=ha[xpos], va='bottom')\n",
    "\n",
    "def plot_accuracies(acc_rep, measurement='Accuracy', fname = 'Accuracies', save = None):\n",
    "    sl = len(acc_rep.keys())\n",
    "    sl_0 = acc_rep[list(acc_rep.keys())[0]]\n",
    "    sel = len(list(sl_0.keys()))\n",
    "    \n",
    "    accs = np.zeros((sel, sl))\n",
    "    for s, setup in enumerate(acc_rep.keys()):\n",
    "        for se, setname in enumerate(acc_rep[setup].keys()):\n",
    "            accs[se, s] = acc_rep[setup][setname]\n",
    "\n",
    "    ind = np.arange(sel)\n",
    "    width = 0.15\n",
    "    offset = (accs.shape[1] / 2) * width\n",
    "    if accs.shape[1] % 2 > 0:\n",
    "        offset -= width/2\n",
    "    fig, ax = plt.subplots(figsize=(20,4))\n",
    "    for s in range(sl):\n",
    "        r = ax.bar(ind + s * width - offset, accs[:,s], width, label=list(acc_rep.keys())[s])\n",
    "        if measurement == 'Loss':\n",
    "            autolabel(ax, r, False)\n",
    "        else:\n",
    "            autolabel(ax, r)\n",
    "    \n",
    "    ax.set_ylabel(measurement)\n",
    "    title = ax.set_title(measurement + ' grouped by dataset')\n",
    "    ax.set_xticks(np.arange(accs.shape[0]))\n",
    "    ax.set_xticklabels(list(sl_0.keys()))\n",
    "    ax.legend()\n",
    "\n",
    "    plt.ylim(np.min(accs[se]*0.9))\n",
    "    title.set_position([.5, 1.2])\n",
    "    plt.legend(bbox_to_anchor=(0,1.02,1,0.2), loc=\"lower left\",\n",
    "                mode=\"expand\", borderaxespad=0.0, ncol=5)\n",
    "    fig.tight_layout()\n",
    "    \n",
    "    if not save is None:\n",
    "        if not os.path.exists(save):\n",
    "            os.makedirs(save)\n",
    "        plt.savefig(os.path.join(save, fname), dpi=300)\n",
    "\n",
    "    plt.show()"
   ]
  },
  {
   "cell_type": "code",
   "execution_count": null,
   "metadata": {
    "tags": []
   },
   "outputs": [],
   "source": [
    "image_path = '../../images/Setup_Comparison/'\n",
    "image_path = os.path.join(image_path, setup, setup_group)\n",
    "plot_accuracies(accuracy_report, save=image_path)"
   ]
  },
  {
   "cell_type": "code",
   "execution_count": null,
   "metadata": {
    "tags": []
   },
   "outputs": [],
   "source": [
    "def get_setup_params(key):\n",
    "    splits = key.split('_')\n",
    "    z, a, n = splits[0][-1], splits[1][-1], splits[2][-1]\n",
    "    return np.array([z, a, n], dtype=int)"
   ]
  },
  {
   "cell_type": "code",
   "execution_count": null,
   "metadata": {
    "tags": []
   },
   "outputs": [],
   "source": [
    "from copy import deepcopy\n",
    "\n",
    "from modules.data_processor import generate_data\n",
    "from modules.data_generator import DataGenerator\n",
    "from modules.patch_generator import get_data_patch_stats, get_generator_id_list\n",
    "from modules.model import create_model\n",
    "from modules.model_trainer import train_descriptive\n",
    "\n",
    "import tensorflow as tf\n",
    "\n",
    "config = tf.ConfigProto()\n",
    "config.gpu_options.allow_growth = True\n",
    "sess = tf.Session(config=config)\n",
    "tf.keras.backend.set_session(sess)\n",
    "\n",
    "import sys\n",
    "sys.path.append(\"../\")\n",
    "%load_ext autoreload\n",
    "%autoreload 2"
   ]
  },
  {
   "cell_type": "code",
   "execution_count": null,
   "metadata": {
    "tags": []
   },
   "outputs": [],
   "source": [
    "data_path = '../../data/anomaly_new/anomaly_dataset.pickle'\n",
    "trainX, trainY, valX, valY, testX, testY, classes, seqlen, channel = generate_data(data_path, create_val=True, verbose=1)\n",
    "trainLen, valLen, testLen = trainX.shape[0], valX.shape[0], testX.shape[0]\n",
    "\n",
    "# [Stride, Length]\n",
    "config = [[5,10]]\n",
    "\n",
    "l1_acc = deepcopy(accuracy_report)\n",
    "l1_loss = deepcopy(accuracy_report)\n",
    "models = []\n",
    "\n",
    "for i, key in enumerate(list(accuracy_report.keys())):\n",
    "    print('Evaluate:', key)\n",
    "    # define for each run\n",
    "    zero, attach, notemp = get_setup_params(key)\n",
    "    params = {'dim': [seqlen, channel], 'batch_size': 1024, 'config': config,\n",
    "            'zero': zero, 'attach': attach, 'notemp': notemp, 'shuffle': False}\n",
    "\n",
    "    # Generators\n",
    "    trainIds = get_generator_id_list(trainLen, seqlen, config)\n",
    "    train_generator = DataGenerator(trainIds, trainX, trainY, **params)\n",
    "    valIds = get_generator_id_list(valLen, seqlen, config)\n",
    "    val_generator = DataGenerator(valIds, valX, valY, **params)\n",
    "    testIds = get_generator_id_list(testLen, seqlen, config)\n",
    "    test_generator = DataGenerator(testIds, testX, testY, **params)\n",
    "\n",
    "    input_shape = trainX.shape[1:]\n",
    "    if attach:\n",
    "        input_shape = list(input_shape)\n",
    "        input_shape[-1] +=1\n",
    "        input_shape = tuple(input_shape)\n",
    "    patch_model_path = os.path.join(setup_paths[i], 'patch_classifier.h5')\n",
    "    patch_model = tf.keras.models.load_model(patch_model_path)\n",
    "    models.append(patch_model)\n",
    "\n",
    "    l1_loss[key]['Train'], l1_acc[key]['Train'] = patch_model.evaluate(train_generator)\n",
    "    l1_loss[key]['Val'], l1_acc[key]['Val'] = patch_model.evaluate(val_generator)\n",
    "    l1_loss[key]['Test'], l1_acc[key]['Test'] = patch_model.evaluate(test_generator)"
   ]
  },
  {
   "cell_type": "code",
   "execution_count": null,
   "metadata": {},
   "outputs": [],
   "source": [
    "plot_accuracies(l1_acc, measurement='Accuracy', fname='Accuracies_Level_1', save=image_path)\n",
    "plot_accuracies(l1_loss, measurement='Loss')"
   ]
  },
  {
   "cell_type": "code",
   "execution_count": null,
   "metadata": {},
   "outputs": [],
   "source": []
  }
 ],
 "metadata": {
  "language_info": {
   "codemirror_mode": {
    "name": "ipython",
    "version": 3
   },
   "file_extension": ".py",
   "mimetype": "text/x-python",
   "name": "python",
   "nbconvert_exporter": "python",
   "pygments_lexer": "ipython3",
   "version": "3.6.10-final"
  },
  "orig_nbformat": 2,
  "kernelspec": {
   "name": "python36964bita54aa851efd74a40947ad31aa4b50f69",
   "display_name": "Python 3.6.9 64-bit"
  }
 },
 "nbformat": 4,
 "nbformat_minor": 2
}